{
 "cells": [
  {
   "cell_type": "markdown",
   "metadata": {},
   "source": [
    "# Set SageMaker environment"
   ]
  },
  {
   "cell_type": "code",
   "execution_count": 1,
   "metadata": {},
   "outputs": [],
   "source": [
    "import sagemaker\n",
    "import numpy as np\n",
    "from sagemaker.utils import name_from_base\n",
    "from sagemaker.pytorch import PyTorchModel\n",
    "\n",
    "sagemaker_session = sagemaker.Session()\n",
    "\n",
    "\n",
    "role = 'arn:aws:iam::753384412675:role/service-role/AmazonSageMaker-ExecutionRole-20210810T104409' "
   ]
  },
  {
   "cell_type": "markdown",
   "metadata": {},
   "source": [
    "# Upload model artifacts to S3"
   ]
  },
  {
   "cell_type": "code",
   "execution_count": 2,
   "metadata": {},
   "outputs": [
    {
     "name": "stdout",
     "output_type": "stream",
     "text": [
      "best.pt\n",
      "last.pt\n",
      "powercor-yolo5-pytorch-model.tar.gz\n",
      "tar: powercor-yolo5-pytorch-model.tar.gz: file changed as we read it\n",
      "/usr/lib/python3/dist-packages/OpenSSL/crypto.py:12: CryptographyDeprecationWarning: Python 3.6 is no longer supported by the Python core team. Therefore, support for it is deprecated in cryptography and will be removed in a future release.\n",
      "  from cryptography import x509\n",
      "\n",
      "usage: aws s3 cp <LocalPath> <S3Uri> or <S3Uri> <LocalPath> or <S3Uri> <S3Uri>\n",
      "Error: Invalid argument type\n"
     ]
    }
   ],
   "source": [
    "# Path of the trained model artefact (tar.gz archive made by SageMaker estimator, from Yolo output (weights folder))\n",
    "# This archive should contains the two trained model from Yolo : last.pt and best.pt\n",
    "!cd /home/ubuntu/yolo5_train/yolov5/runs/train/exp5/weights && tar -czvf powercor-yolo5-pytorch-model.tar.gz *\n",
    "model_artefact = 's3://asset-det-train-pipeline/yolo5/model_artefacts/powercor-yolo5-pytorch-model.tar.gz'\n",
    "!aws s3 cp powercor-yolo5-pytorch-model.tar.gz model_artefacts\n"
   ]
  },
  {
   "cell_type": "code",
   "execution_count": 3,
   "metadata": {},
   "outputs": [],
   "source": [
    "# inference model image\n",
    "inference_container_uri = '753384412675.dkr.ecr.ap-southeast-2.amazonaws.com/yolo5-inference:sagemaker'"
   ]
  },
  {
   "cell_type": "markdown",
   "metadata": {},
   "source": [
    "# Runtime model definition as PyTorch model (Yolo v5 is based on PyTorch)\n",
    "\n",
    "The local folder \"code\" will be embedded into this endpoint, to allow custom behavior of the container instance.\n",
    "\n",
    "In this case we use a custom python class (ModelHandler) as a singleton to load the model and to manage inference request with this loaded model (please review code/model_handler.py file). This class is made to be compatible with the SageMaker model_server interface (https://github.com/aws/sagemaker-inference-toolkit)\n"
   ]
  },
  {
   "cell_type": "code",
   "execution_count": 17,
   "metadata": {},
   "outputs": [],
   "source": [
    "# Create SageMaker model and deploy an endpoint\n",
    "model = PyTorchModel(\n",
    "    name=name_from_base('powercor-yolov5'),\n",
    "    model_data=model_artefact,\n",
    "    # entry_point='dockerd-entrypoint.py',\n",
    "    entry_point='inference.py',\n",
    "    role=role,\n",
    "    source_dir='code',\n",
    "    framework_version='1.8.0',\n",
    "    py_version='py3',\n",
    "    image_uri=inference_container_uri,\n",
    ")"
   ]
  },
  {
   "cell_type": "markdown",
   "metadata": {},
   "source": [
    "# Endpoint creation\n",
    "\n",
    "The endpoint instance type can be customized depending on the desired hardware resource. \"local\" instance type allow to test the endpoint locally (docker/docker-compose are required)"
   ]
  },
  {
   "cell_type": "code",
   "execution_count": 15,
   "metadata": {},
   "outputs": [
    {
     "name": "stdout",
     "output_type": "stream",
     "text": [
      "!"
     ]
    },
    {
     "name": "stderr",
     "output_type": "stream",
     "text": [
      "Exception in thread Thread-7:\n",
      "Traceback (most recent call last):\n",
      "  File \"/home/ubuntu/anaconda3/envs/pytorch_p38/lib/python3.8/site-packages/sagemaker/local/image.py\", line 852, in run\n",
      "    _stream_output(self.process)\n",
      "  File \"/home/ubuntu/anaconda3/envs/pytorch_p38/lib/python3.8/site-packages/sagemaker/local/image.py\", line 914, in _stream_output\n",
      "    raise RuntimeError(\"Process exited with code: %s\" % exit_code)\n",
      "RuntimeError: Process exited with code: 1\n",
      "\n",
      "During handling of the above exception, another exception occurred:\n",
      "\n",
      "Traceback (most recent call last):\n",
      "  File \"/home/ubuntu/anaconda3/envs/pytorch_p38/lib/python3.8/threading.py\", line 932, in _bootstrap_inner\n",
      "    self.run()\n",
      "  File \"/home/ubuntu/anaconda3/envs/pytorch_p38/lib/python3.8/site-packages/sagemaker/local/image.py\", line 857, in run\n",
      "    raise RuntimeError(msg)\n",
      "RuntimeError: Failed to run: ['docker-compose', '-f', '/tmp/tmp5mscni0o/docker-compose.yaml', 'up', '--build', '--abort-on-container-exit'], Process exited with code: 1\n"
     ]
    }
   ],
   "source": [
    "#predictor = model.deploy(initial_instance_count=1, instance_type='ml.m5.large')\n",
    "# predictor = model.deploy(initial_instance_count=1, instance_type='ml.g4dn.xlarge')\n",
    "predictor = model.deploy(initial_instance_count=1, instance_type='local')"
   ]
  },
  {
   "cell_type": "code",
   "execution_count": 16,
   "metadata": {},
   "outputs": [
    {
     "name": "stdout",
     "output_type": "stream",
     "text": [
      "powercor-yolov5-2022-05-12-14-24-16-528\n"
     ]
    }
   ],
   "source": [
    "# Print the name of newly created endpoint\n",
    "print(predictor.endpoint_name)"
   ]
  },
  {
   "cell_type": "markdown",
   "metadata": {},
   "source": [
    "## Local endpoint invoke with curl\n",
    "\n",
    "```bash\n",
    "curl -v -X POST -F \"body=@/path/to/some-image.jpg\" http://localhost:8080/models/model/invoke\n",
    "```"
   ]
  },
  {
   "cell_type": "markdown",
   "metadata": {},
   "source": [
    "## Sagemaker endpoint remote invoke :\n",
    "(use the endpoint name printed out from the previous cell)\n",
    "\n",
    "```bash\n",
    "aws sagemaker-runtime invoke-endpoint --endpoint-name powercor-yolov5 --body fileb:///path/to/some-image.jpg --content-type multipart/form-data  >(cat)\n",
    "```"
   ]
  },
  {
   "cell_type": "markdown",
   "metadata": {},
   "source": [
    "# Endpoint removal"
   ]
  },
  {
   "cell_type": "code",
   "execution_count": null,
   "metadata": {},
   "outputs": [],
   "source": [
    "sagemaker.Session().delete_endpoint(predictor.endpoint_name)"
   ]
  }
 ],
 "metadata": {
  "interpreter": {
   "hash": "5b2c14c5f2a3b21e6c2412c8196f5145870350e81c0b737cae3e5c60eb1e1eac"
  },
  "kernelspec": {
   "display_name": "Python 3.8.12 ('pytorch_p38')",
   "language": "python",
   "name": "python3"
  },
  "language_info": {
   "codemirror_mode": {
    "name": "ipython",
    "version": 3
   },
   "file_extension": ".py",
   "mimetype": "text/x-python",
   "name": "python",
   "nbconvert_exporter": "python",
   "pygments_lexer": "ipython3",
   "version": "3.8.12"
  },
  "orig_nbformat": 4
 },
 "nbformat": 4,
 "nbformat_minor": 2
}
